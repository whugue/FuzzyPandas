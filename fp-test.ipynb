{
 "cells": [
  {
   "cell_type": "markdown",
   "metadata": {},
   "source": [
    "### Test Out FuzzyPandas Functionality"
   ]
  },
  {
   "cell_type": "code",
   "execution_count": 1,
   "metadata": {
    "collapsed": false
   },
   "outputs": [],
   "source": [
    "%load_ext autoreload\n",
    "%autoreload 2\n",
    "\n",
    "import pyprind\n",
    "import pandas as pd\n",
    "import fuzzypandas as fp"
   ]
  },
  {
   "cell_type": "markdown",
   "metadata": {},
   "source": [
    "#### Read In U.S. News Data"
   ]
  },
  {
   "cell_type": "code",
   "execution_count": 2,
   "metadata": {
    "collapsed": false
   },
   "outputs": [
    {
     "data": {
      "text/html": [
       "<div>\n",
       "<table border=\"1\" class=\"dataframe\">\n",
       "  <thead>\n",
       "    <tr style=\"text-align: right;\">\n",
       "      <th></th>\n",
       "      <th>category</th>\n",
       "      <th>school</th>\n",
       "      <th>score</th>\n",
       "      <th>city</th>\n",
       "      <th>state</th>\n",
       "    </tr>\n",
       "  </thead>\n",
       "  <tbody>\n",
       "    <tr>\n",
       "      <th>0</th>\n",
       "      <td>National Universities</td>\n",
       "      <td>PRINCETON UNIVERSITY</td>\n",
       "      <td>100 out of 100.</td>\n",
       "      <td>PRINCETON</td>\n",
       "      <td>NJ</td>\n",
       "    </tr>\n",
       "    <tr>\n",
       "      <th>1</th>\n",
       "      <td>National Universities</td>\n",
       "      <td>HARVARD UNIVERSITY</td>\n",
       "      <td>99 out of 100.</td>\n",
       "      <td>CAMBRIDGE</td>\n",
       "      <td>MA</td>\n",
       "    </tr>\n",
       "    <tr>\n",
       "      <th>2</th>\n",
       "      <td>National Universities</td>\n",
       "      <td>YALE UNIVERSITY</td>\n",
       "      <td>97 out of 100.</td>\n",
       "      <td>NEW HAVEN</td>\n",
       "      <td>CT</td>\n",
       "    </tr>\n",
       "    <tr>\n",
       "      <th>3</th>\n",
       "      <td>National Universities</td>\n",
       "      <td>COLUMBIA UNIVERSITY</td>\n",
       "      <td>95 out of 100.</td>\n",
       "      <td>NEW YORK</td>\n",
       "      <td>NY</td>\n",
       "    </tr>\n",
       "    <tr>\n",
       "      <th>4</th>\n",
       "      <td>National Universities</td>\n",
       "      <td>STANFORD UNIVERSITY</td>\n",
       "      <td>95 out of 100.</td>\n",
       "      <td>STANFORD</td>\n",
       "      <td>CA</td>\n",
       "    </tr>\n",
       "  </tbody>\n",
       "</table>\n",
       "</div>"
      ],
      "text/plain": [
       "                category                school            score       city  \\\n",
       "0  National Universities  PRINCETON UNIVERSITY  100 out of 100.  PRINCETON   \n",
       "1  National Universities    HARVARD UNIVERSITY   99 out of 100.  CAMBRIDGE   \n",
       "2  National Universities       YALE UNIVERSITY   97 out of 100.  NEW HAVEN   \n",
       "3  National Universities   COLUMBIA UNIVERSITY   95 out of 100.   NEW YORK   \n",
       "4  National Universities   STANFORD UNIVERSITY   95 out of 100.   STANFORD   \n",
       "\n",
       "  state  \n",
       "0    NJ  \n",
       "1    MA  \n",
       "2    CT  \n",
       "3    NY  \n",
       "4    CA  "
      ]
     },
     "execution_count": 2,
     "metadata": {},
     "output_type": "execute_result"
    }
   ],
   "source": [
    "def read_us_news(pickle):\n",
    "    df = pd.read_pickle(pickle)   \n",
    "    return pd.concat([us_news, df], axis=0, ignore_index=True)\n",
    "\n",
    "us_news = pd.DataFrame() #initialize empty data frame\n",
    "us_news = read_us_news(\"testdata/us_news/usnews-ranking-national-universities.pickle\")\n",
    "us_news = read_us_news(\"testdata/us_news/usnews-ranking-national-liberal-arts-colleges.pickle\")\n",
    "us_news = read_us_news(\"testdata/us_news/usnews-ranking-regional-colleges-midwest.pickle\")\n",
    "us_news = read_us_news(\"testdata/us_news/usnews-ranking-regional-colleges-north.pickle\")\n",
    "us_news = read_us_news(\"testdata/us_news/usnews-ranking-regional-colleges-south.pickle\")\n",
    "us_news = read_us_news(\"testdata/us_news/usnews-ranking-regional-colleges-west.pickle\")\n",
    "us_news = read_us_news(\"testdata/us_news/usnews-ranking-regional-universities-midwest.pickle\")\n",
    "us_news = read_us_news(\"testdata/us_news/usnews-ranking-regional-universities-north.pickle\")\n",
    "us_news = read_us_news(\"testdata/us_news/usnews-ranking-regional-universities-south.pickle\")\n",
    "us_news = read_us_news(\"testdata/us_news/usnews-ranking-regional-universities-west.pickle\")\n",
    "\n",
    "##Clean data, convert unicode to string\n",
    "us_news[\"city\"] = us_news.location.apply(lambda x: x.split(\", \")[0].upper().strip().encode(\"ascii\", \"replace\"))\n",
    "us_news[\"state\"] = us_news.location.apply(lambda x: x.split(\", \")[1].upper().strip().encode(\"ascii\", \"replace\"))\n",
    "us_news[\"school\"] = us_news.school.apply(lambda x: x.upper().strip().encode(\"ascii\", \"replace\"))\n",
    "\n",
    "us_news.drop(\"location\", axis=1, inplace=True) #drop original location (now that we've split out into city and state)\n",
    "us_news.head(5)"
   ]
  },
  {
   "cell_type": "code",
   "execution_count": 4,
   "metadata": {
    "collapsed": false
   },
   "outputs": [
    {
     "ename": "AttributeError",
     "evalue": "'DataFrame' object has no attribute 'name'",
     "output_type": "error",
     "traceback": [
      "\u001b[0;31m---------------------------------------------------------------------------\u001b[0m",
      "\u001b[0;31mAttributeError\u001b[0m                            Traceback (most recent call last)",
      "\u001b[0;32m<ipython-input-4-a5a2553c4f07>\u001b[0m in \u001b[0;36m<module>\u001b[0;34m()\u001b[0m\n\u001b[0;32m----> 1\u001b[0;31m \u001b[0;32mprint\u001b[0m \u001b[0mus_news\u001b[0m\u001b[0;34m.\u001b[0m\u001b[0mname\u001b[0m\u001b[0;34m\u001b[0m\u001b[0m\n\u001b[0m",
      "\u001b[0;32m/Users/willhuguenin/anaconda/lib/python2.7/site-packages/pandas/core/generic.pyc\u001b[0m in \u001b[0;36m__getattr__\u001b[0;34m(self, name)\u001b[0m\n\u001b[1;32m   2358\u001b[0m                 \u001b[0;32mreturn\u001b[0m \u001b[0mself\u001b[0m\u001b[0;34m[\u001b[0m\u001b[0mname\u001b[0m\u001b[0;34m]\u001b[0m\u001b[0;34m\u001b[0m\u001b[0m\n\u001b[1;32m   2359\u001b[0m             raise AttributeError(\"'%s' object has no attribute '%s'\" %\n\u001b[0;32m-> 2360\u001b[0;31m                                  (type(self).__name__, name))\n\u001b[0m\u001b[1;32m   2361\u001b[0m \u001b[0;34m\u001b[0m\u001b[0m\n\u001b[1;32m   2362\u001b[0m     \u001b[0;32mdef\u001b[0m \u001b[0m__setattr__\u001b[0m\u001b[0;34m(\u001b[0m\u001b[0mself\u001b[0m\u001b[0;34m,\u001b[0m \u001b[0mname\u001b[0m\u001b[0;34m,\u001b[0m \u001b[0mvalue\u001b[0m\u001b[0;34m)\u001b[0m\u001b[0;34m:\u001b[0m\u001b[0;34m\u001b[0m\u001b[0m\n",
      "\u001b[0;31mAttributeError\u001b[0m: 'DataFrame' object has no attribute 'name'"
     ]
    }
   ],
   "source": [
    "print us_news.name"
   ]
  },
  {
   "cell_type": "markdown",
   "metadata": {},
   "source": [
    "#### Read in IPEDS Data (IPEDS can be downloaded for free [here](https://nces.ed.gov/ipeds/datacenter/Default.aspx))"
   ]
  },
  {
   "cell_type": "code",
   "execution_count": 3,
   "metadata": {
    "collapsed": false
   },
   "outputs": [
    {
     "name": "stdout",
     "output_type": "stream",
     "text": [
      "(7687, 4)\n"
     ]
    },
    {
     "data": {
      "text/html": [
       "<div>\n",
       "<table border=\"1\" class=\"dataframe\">\n",
       "  <thead>\n",
       "    <tr style=\"text-align: right;\">\n",
       "      <th></th>\n",
       "      <th>unitid</th>\n",
       "      <th>school</th>\n",
       "      <th>city</th>\n",
       "      <th>state</th>\n",
       "    </tr>\n",
       "  </thead>\n",
       "  <tbody>\n",
       "    <tr>\n",
       "      <th>0</th>\n",
       "      <td>100636</td>\n",
       "      <td>COMMUNITY COLLEGE OF THE AIR FORCE</td>\n",
       "      <td>MONTGOMERY</td>\n",
       "      <td>AL</td>\n",
       "    </tr>\n",
       "    <tr>\n",
       "      <th>1</th>\n",
       "      <td>100654</td>\n",
       "      <td>ALABAMA A &amp; M UNIVERSITY</td>\n",
       "      <td>NORMAL</td>\n",
       "      <td>AL</td>\n",
       "    </tr>\n",
       "    <tr>\n",
       "      <th>2</th>\n",
       "      <td>100663</td>\n",
       "      <td>UNIVERSITY OF ALABAMA AT BIRMINGHAM</td>\n",
       "      <td>BIRMINGHAM</td>\n",
       "      <td>AL</td>\n",
       "    </tr>\n",
       "    <tr>\n",
       "      <th>3</th>\n",
       "      <td>100690</td>\n",
       "      <td>AMRIDGE UNIVERSITY</td>\n",
       "      <td>MONTGOMERY</td>\n",
       "      <td>AL</td>\n",
       "    </tr>\n",
       "    <tr>\n",
       "      <th>4</th>\n",
       "      <td>100706</td>\n",
       "      <td>UNIVERSITY OF ALABAMA IN HUNTSVILLE</td>\n",
       "      <td>HUNTSVILLE</td>\n",
       "      <td>AL</td>\n",
       "    </tr>\n",
       "  </tbody>\n",
       "</table>\n",
       "</div>"
      ],
      "text/plain": [
       "   unitid                               school        city state\n",
       "0  100636   COMMUNITY COLLEGE OF THE AIR FORCE  MONTGOMERY    AL\n",
       "1  100654             ALABAMA A & M UNIVERSITY      NORMAL    AL\n",
       "2  100663  UNIVERSITY OF ALABAMA AT BIRMINGHAM  BIRMINGHAM    AL\n",
       "3  100690                   AMRIDGE UNIVERSITY  MONTGOMERY    AL\n",
       "4  100706  UNIVERSITY OF ALABAMA IN HUNTSVILLE  HUNTSVILLE    AL"
      ]
     },
     "execution_count": 3,
     "metadata": {},
     "output_type": "execute_result"
    }
   ],
   "source": [
    "ipeds=pd.read_csv(\"testdata/ipeds/HD2014.csv\")[[\"UNITID\",\"INSTNM\",\"CITY\",\"STABBR\"]]\n",
    "ipeds.rename(columns={\"UNITID\":\"unitid\",\"INSTNM\":\"school\",\"CITY\":\"city\",\"STABBR\":\"state\"}, inplace=True) \n",
    "\n",
    "##Convert keys to uppercase & strip blankspace\n",
    "ipeds[\"school\"] = ipeds.school.apply(lambda x: x.upper().strip())\n",
    "ipeds[\"city\"] = ipeds.city.apply(lambda x: x.upper().strip()) \n",
    "ipeds[\"state\"] = ipeds.state.apply(lambda x: x.upper().strip())\n",
    "\n",
    "print ipeds.shape\n",
    "ipeds.head(5)"
   ]
  },
  {
   "cell_type": "code",
   "execution_count": 4,
   "metadata": {
    "collapsed": false
   },
   "outputs": [
    {
     "name": "stdout",
     "output_type": "stream",
     "text": [
      "<type 'str'>\n",
      "<type 'str'>\n"
     ]
    }
   ],
   "source": [
    "print type(us_news.school.tolist()[0])\n",
    "print type(ipeds.school.tolist()[0])"
   ]
  },
  {
   "cell_type": "markdown",
   "metadata": {},
   "source": [
    "#### Subset to only NY & CT schools"
   ]
  },
  {
   "cell_type": "code",
   "execution_count": 5,
   "metadata": {
    "collapsed": false
   },
   "outputs": [
    {
     "name": "stdout",
     "output_type": "stream",
     "text": [
      "(142, 5)\n",
      "(574, 4)\n"
     ]
    }
   ],
   "source": [
    "us_news=us_news[us_news.state.isin([\"NY\", \"CT\"])].copy()\n",
    "ipeds=ipeds[ipeds.state.isin([\"NY\", \"CT\"])].copy()\n",
    "\n",
    "print us_news.shape\n",
    "print ipeds.shape"
   ]
  },
  {
   "cell_type": "code",
   "execution_count": 6,
   "metadata": {
    "collapsed": false
   },
   "outputs": [
    {
     "data": {
      "text/html": [
       "<div>\n",
       "<table border=\"1\" class=\"dataframe\">\n",
       "  <thead>\n",
       "    <tr style=\"text-align: right;\">\n",
       "      <th></th>\n",
       "      <th>keyA</th>\n",
       "      <th>keyB</th>\n",
       "      <th>match_score</th>\n",
       "    </tr>\n",
       "  </thead>\n",
       "  <tbody>\n",
       "    <tr>\n",
       "      <th>0</th>\n",
       "      <td>YALE UNIVERSITY</td>\n",
       "      <td>YALE UNIVERSITY</td>\n",
       "      <td>100</td>\n",
       "    </tr>\n",
       "    <tr>\n",
       "      <th>1</th>\n",
       "      <td>COLUMBIA UNIVERSITY</td>\n",
       "      <td>COLGATE UNIVERSITY</td>\n",
       "      <td>81</td>\n",
       "    </tr>\n",
       "    <tr>\n",
       "      <th>2</th>\n",
       "      <td>CORNELL UNIVERSITY</td>\n",
       "      <td>CORNELL UNIVERSITY</td>\n",
       "      <td>100</td>\n",
       "    </tr>\n",
       "    <tr>\n",
       "      <th>3</th>\n",
       "      <td>NEW YORK UNIVERSITY</td>\n",
       "      <td>NEW YORK UNIVERSITY</td>\n",
       "      <td>100</td>\n",
       "    </tr>\n",
       "    <tr>\n",
       "      <th>4</th>\n",
       "      <td>UNIVERSITY OF ROCHESTER</td>\n",
       "      <td>UNIVERSITY OF ROCHESTER</td>\n",
       "      <td>100</td>\n",
       "    </tr>\n",
       "  </tbody>\n",
       "</table>\n",
       "</div>"
      ],
      "text/plain": [
       "                      keyA                     keyB  match_score\n",
       "0          YALE UNIVERSITY          YALE UNIVERSITY          100\n",
       "1      COLUMBIA UNIVERSITY       COLGATE UNIVERSITY           81\n",
       "2       CORNELL UNIVERSITY       CORNELL UNIVERSITY          100\n",
       "3      NEW YORK UNIVERSITY      NEW YORK UNIVERSITY          100\n",
       "4  UNIVERSITY OF ROCHESTER  UNIVERSITY OF ROCHESTER          100"
      ]
     },
     "execution_count": 6,
     "metadata": {},
     "output_type": "execute_result"
    }
   ],
   "source": [
    "test = fp.basic_match(us_news.school.unique(), ipeds.school.unique(), cutoff=60, quickmatch=True)\n",
    "test.head(5)"
   ]
  },
  {
   "cell_type": "code",
   "execution_count": 11,
   "metadata": {
    "collapsed": true
   },
   "outputs": [],
   "source": [
    "testA = us_news[[\"school\",\"category\"]].copy()\n",
    "testB = ipeds[[\"school\", \"unitid\"]].copy()"
   ]
  },
  {
   "cell_type": "code",
   "execution_count": 8,
   "metadata": {
    "collapsed": false
   },
   "outputs": [
    {
     "data": {
      "text/html": [
       "<div>\n",
       "<table border=\"1\" class=\"dataframe\">\n",
       "  <thead>\n",
       "    <tr style=\"text-align: right;\">\n",
       "      <th></th>\n",
       "      <th>school</th>\n",
       "      <th>category</th>\n",
       "    </tr>\n",
       "  </thead>\n",
       "  <tbody>\n",
       "    <tr>\n",
       "      <th>2</th>\n",
       "      <td>YALE UNIVERSITY</td>\n",
       "      <td>National Universities</td>\n",
       "    </tr>\n",
       "    <tr>\n",
       "      <th>3</th>\n",
       "      <td>COLUMBIA UNIVERSITY</td>\n",
       "      <td>National Universities</td>\n",
       "    </tr>\n",
       "  </tbody>\n",
       "</table>\n",
       "</div>"
      ],
      "text/plain": [
       "                school               category\n",
       "2      YALE UNIVERSITY  National Universities\n",
       "3  COLUMBIA UNIVERSITY  National Universities"
      ]
     },
     "execution_count": 8,
     "metadata": {},
     "output_type": "execute_result"
    }
   ],
   "source": [
    "testA.head(2)"
   ]
  },
  {
   "cell_type": "code",
   "execution_count": 9,
   "metadata": {
    "collapsed": false
   },
   "outputs": [
    {
     "data": {
      "text/html": [
       "<div>\n",
       "<table border=\"1\" class=\"dataframe\">\n",
       "  <thead>\n",
       "    <tr style=\"text-align: right;\">\n",
       "      <th></th>\n",
       "      <th>school</th>\n",
       "      <th>unitid</th>\n",
       "    </tr>\n",
       "  </thead>\n",
       "  <tbody>\n",
       "    <tr>\n",
       "      <th>668</th>\n",
       "      <td>ALBERTUS MAGNUS COLLEGE</td>\n",
       "      <td>128498</td>\n",
       "    </tr>\n",
       "    <tr>\n",
       "      <th>669</th>\n",
       "      <td>PAUL MITCHELL THE SCHOOL-DANBURY</td>\n",
       "      <td>128540</td>\n",
       "    </tr>\n",
       "  </tbody>\n",
       "</table>\n",
       "</div>"
      ],
      "text/plain": [
       "                               school  unitid\n",
       "668           ALBERTUS MAGNUS COLLEGE  128498\n",
       "669  PAUL MITCHELL THE SCHOOL-DANBURY  128540"
      ]
     },
     "execution_count": 9,
     "metadata": {},
     "output_type": "execute_result"
    }
   ],
   "source": [
    "testB.head(2)"
   ]
  },
  {
   "cell_type": "code",
   "execution_count": 23,
   "metadata": {
    "collapsed": false
   },
   "outputs": [],
   "source": [
    "test = fp.fuzzy_merge(us_news, ipeds, on=[\"state\",\"city\",\"school\"])"
   ]
  },
  {
   "cell_type": "code",
   "execution_count": 24,
   "metadata": {
    "collapsed": false
   },
   "outputs": [
    {
     "data": {
      "text/html": [
       "<div>\n",
       "<table border=\"1\" class=\"dataframe\">\n",
       "  <thead>\n",
       "    <tr style=\"text-align: right;\">\n",
       "      <th></th>\n",
       "      <th>category_x</th>\n",
       "      <th>school_x</th>\n",
       "      <th>score_x</th>\n",
       "      <th>city_x</th>\n",
       "      <th>state_x</th>\n",
       "      <th>in_a_x</th>\n",
       "      <th>unitid_x</th>\n",
       "      <th>in_b_x</th>\n",
       "      <th>keyA</th>\n",
       "      <th>keyB</th>\n",
       "      <th>match_score</th>\n",
       "      <th>category_y</th>\n",
       "      <th>school_y</th>\n",
       "      <th>score_y</th>\n",
       "      <th>city_y</th>\n",
       "      <th>state_y</th>\n",
       "      <th>in_a_y</th>\n",
       "      <th>unitid_y</th>\n",
       "      <th>in_b_y</th>\n",
       "    </tr>\n",
       "  </thead>\n",
       "  <tbody>\n",
       "    <tr>\n",
       "      <th>0</th>\n",
       "      <td>National Universities</td>\n",
       "      <td>COLUMBIA UNIVERSITY</td>\n",
       "      <td>95 out of 100.</td>\n",
       "      <td>NEW YORK</td>\n",
       "      <td>NY</td>\n",
       "      <td>1</td>\n",
       "      <td>NaN</td>\n",
       "      <td>NaN</td>\n",
       "      <td>NY NEW YORK COLUMBIA UNIVERSITY</td>\n",
       "      <td>NY NEW YORK ROCKEFELLER UNIVERSITY</td>\n",
       "      <td>77</td>\n",
       "      <td>NaN</td>\n",
       "      <td>ROCKEFELLER UNIVERSITY</td>\n",
       "      <td>NaN</td>\n",
       "      <td>NEW YORK</td>\n",
       "      <td>NY</td>\n",
       "      <td>NaN</td>\n",
       "      <td>195049</td>\n",
       "      <td>1</td>\n",
       "    </tr>\n",
       "    <tr>\n",
       "      <th>1</th>\n",
       "      <td>National Universities</td>\n",
       "      <td>FORDHAM UNIVERSITY</td>\n",
       "      <td>54 out of 100.</td>\n",
       "      <td>NEW YORK</td>\n",
       "      <td>NY</td>\n",
       "      <td>1</td>\n",
       "      <td>NaN</td>\n",
       "      <td>NaN</td>\n",
       "      <td>NY NEW YORK FORDHAM UNIVERSITY</td>\n",
       "      <td>NY BRONX FORDHAM UNIVERSITY</td>\n",
       "      <td>81</td>\n",
       "      <td>NaN</td>\n",
       "      <td>FORDHAM UNIVERSITY</td>\n",
       "      <td>NaN</td>\n",
       "      <td>BRONX</td>\n",
       "      <td>NY</td>\n",
       "      <td>NaN</td>\n",
       "      <td>191241</td>\n",
       "      <td>1</td>\n",
       "    </tr>\n",
       "    <tr>\n",
       "      <th>2</th>\n",
       "      <td>National Universities</td>\n",
       "      <td>BINGHAMTON UNIVERSITY??SUNY</td>\n",
       "      <td>46 out of 100.</td>\n",
       "      <td>BINGHAMTON</td>\n",
       "      <td>NY</td>\n",
       "      <td>1</td>\n",
       "      <td>NaN</td>\n",
       "      <td>NaN</td>\n",
       "      <td>NY BINGHAMTON BINGHAMTON UNIVERSITY??SUNY</td>\n",
       "      <td>NY BRONX FORDHAM UNIVERSITY</td>\n",
       "      <td>62</td>\n",
       "      <td>NaN</td>\n",
       "      <td>FORDHAM UNIVERSITY</td>\n",
       "      <td>NaN</td>\n",
       "      <td>BRONX</td>\n",
       "      <td>NY</td>\n",
       "      <td>NaN</td>\n",
       "      <td>191241</td>\n",
       "      <td>1</td>\n",
       "    </tr>\n",
       "    <tr>\n",
       "      <th>3</th>\n",
       "      <td>National Universities</td>\n",
       "      <td>STONY BROOK UNIVERSITY??SUNY</td>\n",
       "      <td>46 out of 100.</td>\n",
       "      <td>STONY BROOK</td>\n",
       "      <td>NY</td>\n",
       "      <td>1</td>\n",
       "      <td>NaN</td>\n",
       "      <td>NaN</td>\n",
       "      <td>NY STONY BROOK STONY BROOK UNIVERSITY??SUNY</td>\n",
       "      <td>NY STONY BROOK STONY BROOK UNIVERSITY</td>\n",
       "      <td>93</td>\n",
       "      <td>NaN</td>\n",
       "      <td>STONY BROOK UNIVERSITY</td>\n",
       "      <td>NaN</td>\n",
       "      <td>STONY BROOK</td>\n",
       "      <td>NY</td>\n",
       "      <td>NaN</td>\n",
       "      <td>196097</td>\n",
       "      <td>1</td>\n",
       "    </tr>\n",
       "    <tr>\n",
       "      <th>4</th>\n",
       "      <td>National Universities</td>\n",
       "      <td>UNIVERSITY AT BUFFALO??SUNY</td>\n",
       "      <td>44 out of 100.</td>\n",
       "      <td>BUFFALO</td>\n",
       "      <td>NY</td>\n",
       "      <td>1</td>\n",
       "      <td>NaN</td>\n",
       "      <td>NaN</td>\n",
       "      <td>NY BUFFALO UNIVERSITY AT BUFFALO??SUNY</td>\n",
       "      <td>NY BUFFALO UNIVERSITY AT BUFFALO</td>\n",
       "      <td>91</td>\n",
       "      <td>NaN</td>\n",
       "      <td>UNIVERSITY AT BUFFALO</td>\n",
       "      <td>NaN</td>\n",
       "      <td>BUFFALO</td>\n",
       "      <td>NY</td>\n",
       "      <td>NaN</td>\n",
       "      <td>196088</td>\n",
       "      <td>1</td>\n",
       "    </tr>\n",
       "    <tr>\n",
       "      <th>5</th>\n",
       "      <td>National Universities</td>\n",
       "      <td>NEW SCHOOL</td>\n",
       "      <td>37 out of 100.</td>\n",
       "      <td>NEW YORK</td>\n",
       "      <td>NY</td>\n",
       "      <td>1</td>\n",
       "      <td>NaN</td>\n",
       "      <td>NaN</td>\n",
       "      <td>NY NEW YORK NEW SCHOOL</td>\n",
       "      <td>NY NEW YORK THE NEW SCHOOL</td>\n",
       "      <td>92</td>\n",
       "      <td>NaN</td>\n",
       "      <td>THE NEW SCHOOL</td>\n",
       "      <td>NaN</td>\n",
       "      <td>NEW YORK</td>\n",
       "      <td>NY</td>\n",
       "      <td>NaN</td>\n",
       "      <td>193654</td>\n",
       "      <td>1</td>\n",
       "    </tr>\n",
       "    <tr>\n",
       "      <th>6</th>\n",
       "      <td>National Universities</td>\n",
       "      <td>UNIVERSITY AT ALBANY??SUNY</td>\n",
       "      <td>36 out of 100.</td>\n",
       "      <td>ALBANY</td>\n",
       "      <td>NY</td>\n",
       "      <td>1</td>\n",
       "      <td>NaN</td>\n",
       "      <td>NaN</td>\n",
       "      <td>NY ALBANY UNIVERSITY AT ALBANY??SUNY</td>\n",
       "      <td>NY ALBANY SUNY AT ALBANY</td>\n",
       "      <td>77</td>\n",
       "      <td>NaN</td>\n",
       "      <td>SUNY AT ALBANY</td>\n",
       "      <td>NaN</td>\n",
       "      <td>ALBANY</td>\n",
       "      <td>NY</td>\n",
       "      <td>NaN</td>\n",
       "      <td>196060</td>\n",
       "      <td>1</td>\n",
       "    </tr>\n",
       "    <tr>\n",
       "      <th>7</th>\n",
       "      <td>National Universities</td>\n",
       "      <td>ST. JOHN FISHER COLLEGE</td>\n",
       "      <td>33 out of 100.</td>\n",
       "      <td>ROCHESTER</td>\n",
       "      <td>NY</td>\n",
       "      <td>1</td>\n",
       "      <td>NaN</td>\n",
       "      <td>NaN</td>\n",
       "      <td>NY ROCHESTER ST. JOHN FISHER COLLEGE</td>\n",
       "      <td>NY ROCHESTER SAINT JOHN FISHER COLLEGE</td>\n",
       "      <td>95</td>\n",
       "      <td>NaN</td>\n",
       "      <td>SAINT JOHN FISHER COLLEGE</td>\n",
       "      <td>NaN</td>\n",
       "      <td>ROCHESTER</td>\n",
       "      <td>NY</td>\n",
       "      <td>NaN</td>\n",
       "      <td>195720</td>\n",
       "      <td>1</td>\n",
       "    </tr>\n",
       "    <tr>\n",
       "      <th>8</th>\n",
       "      <td>National Universities</td>\n",
       "      <td>ST. JOHN'S UNIVERSITY</td>\n",
       "      <td>31 out of 100.</td>\n",
       "      <td>QUEENS</td>\n",
       "      <td>NY</td>\n",
       "      <td>1</td>\n",
       "      <td>NaN</td>\n",
       "      <td>NaN</td>\n",
       "      <td>NY QUEENS ST. JOHN'S UNIVERSITY</td>\n",
       "      <td>NY QUEENS ST JOHN'S UNIVERSITY-NEW YORK</td>\n",
       "      <td>86</td>\n",
       "      <td>NaN</td>\n",
       "      <td>ST JOHN'S UNIVERSITY-NEW YORK</td>\n",
       "      <td>NaN</td>\n",
       "      <td>QUEENS</td>\n",
       "      <td>NY</td>\n",
       "      <td>NaN</td>\n",
       "      <td>195809</td>\n",
       "      <td>1</td>\n",
       "    </tr>\n",
       "    <tr>\n",
       "      <th>9</th>\n",
       "      <td>National Universities</td>\n",
       "      <td>PACE UNIVERSITY</td>\n",
       "      <td>25 out of 100.</td>\n",
       "      <td>NEW YORK</td>\n",
       "      <td>NY</td>\n",
       "      <td>1</td>\n",
       "      <td>NaN</td>\n",
       "      <td>NaN</td>\n",
       "      <td>NY NEW YORK PACE UNIVERSITY</td>\n",
       "      <td>NY NEW YORK PACE UNIVERSITY-NEW YORK</td>\n",
       "      <td>86</td>\n",
       "      <td>NaN</td>\n",
       "      <td>PACE UNIVERSITY-NEW YORK</td>\n",
       "      <td>NaN</td>\n",
       "      <td>NEW YORK</td>\n",
       "      <td>NY</td>\n",
       "      <td>NaN</td>\n",
       "      <td>194310</td>\n",
       "      <td>1</td>\n",
       "    </tr>\n",
       "  </tbody>\n",
       "</table>\n",
       "</div>"
      ],
      "text/plain": [
       "              category_x                      school_x         score_x  \\\n",
       "0  National Universities           COLUMBIA UNIVERSITY  95 out of 100.   \n",
       "1  National Universities            FORDHAM UNIVERSITY  54 out of 100.   \n",
       "2  National Universities   BINGHAMTON UNIVERSITY??SUNY  46 out of 100.   \n",
       "3  National Universities  STONY BROOK UNIVERSITY??SUNY  46 out of 100.   \n",
       "4  National Universities   UNIVERSITY AT BUFFALO??SUNY  44 out of 100.   \n",
       "5  National Universities                    NEW SCHOOL  37 out of 100.   \n",
       "6  National Universities    UNIVERSITY AT ALBANY??SUNY  36 out of 100.   \n",
       "7  National Universities       ST. JOHN FISHER COLLEGE  33 out of 100.   \n",
       "8  National Universities         ST. JOHN'S UNIVERSITY  31 out of 100.   \n",
       "9  National Universities               PACE UNIVERSITY  25 out of 100.   \n",
       "\n",
       "        city_x state_x  in_a_x  unitid_x  in_b_x  \\\n",
       "0     NEW YORK      NY       1       NaN     NaN   \n",
       "1     NEW YORK      NY       1       NaN     NaN   \n",
       "2   BINGHAMTON      NY       1       NaN     NaN   \n",
       "3  STONY BROOK      NY       1       NaN     NaN   \n",
       "4      BUFFALO      NY       1       NaN     NaN   \n",
       "5     NEW YORK      NY       1       NaN     NaN   \n",
       "6       ALBANY      NY       1       NaN     NaN   \n",
       "7    ROCHESTER      NY       1       NaN     NaN   \n",
       "8       QUEENS      NY       1       NaN     NaN   \n",
       "9     NEW YORK      NY       1       NaN     NaN   \n",
       "\n",
       "                                          keyA  \\\n",
       "0              NY NEW YORK COLUMBIA UNIVERSITY   \n",
       "1               NY NEW YORK FORDHAM UNIVERSITY   \n",
       "2    NY BINGHAMTON BINGHAMTON UNIVERSITY??SUNY   \n",
       "3  NY STONY BROOK STONY BROOK UNIVERSITY??SUNY   \n",
       "4       NY BUFFALO UNIVERSITY AT BUFFALO??SUNY   \n",
       "5                       NY NEW YORK NEW SCHOOL   \n",
       "6         NY ALBANY UNIVERSITY AT ALBANY??SUNY   \n",
       "7         NY ROCHESTER ST. JOHN FISHER COLLEGE   \n",
       "8              NY QUEENS ST. JOHN'S UNIVERSITY   \n",
       "9                  NY NEW YORK PACE UNIVERSITY   \n",
       "\n",
       "                                      keyB  match_score category_y  \\\n",
       "0       NY NEW YORK ROCKEFELLER UNIVERSITY           77        NaN   \n",
       "1              NY BRONX FORDHAM UNIVERSITY           81        NaN   \n",
       "2              NY BRONX FORDHAM UNIVERSITY           62        NaN   \n",
       "3    NY STONY BROOK STONY BROOK UNIVERSITY           93        NaN   \n",
       "4         NY BUFFALO UNIVERSITY AT BUFFALO           91        NaN   \n",
       "5               NY NEW YORK THE NEW SCHOOL           92        NaN   \n",
       "6                 NY ALBANY SUNY AT ALBANY           77        NaN   \n",
       "7   NY ROCHESTER SAINT JOHN FISHER COLLEGE           95        NaN   \n",
       "8  NY QUEENS ST JOHN'S UNIVERSITY-NEW YORK           86        NaN   \n",
       "9     NY NEW YORK PACE UNIVERSITY-NEW YORK           86        NaN   \n",
       "\n",
       "                        school_y score_y       city_y state_y  in_a_y  \\\n",
       "0         ROCKEFELLER UNIVERSITY     NaN     NEW YORK      NY     NaN   \n",
       "1             FORDHAM UNIVERSITY     NaN        BRONX      NY     NaN   \n",
       "2             FORDHAM UNIVERSITY     NaN        BRONX      NY     NaN   \n",
       "3         STONY BROOK UNIVERSITY     NaN  STONY BROOK      NY     NaN   \n",
       "4          UNIVERSITY AT BUFFALO     NaN      BUFFALO      NY     NaN   \n",
       "5                 THE NEW SCHOOL     NaN     NEW YORK      NY     NaN   \n",
       "6                 SUNY AT ALBANY     NaN       ALBANY      NY     NaN   \n",
       "7      SAINT JOHN FISHER COLLEGE     NaN    ROCHESTER      NY     NaN   \n",
       "8  ST JOHN'S UNIVERSITY-NEW YORK     NaN       QUEENS      NY     NaN   \n",
       "9       PACE UNIVERSITY-NEW YORK     NaN     NEW YORK      NY     NaN   \n",
       "\n",
       "   unitid_y  in_b_y  \n",
       "0    195049       1  \n",
       "1    191241       1  \n",
       "2    191241       1  \n",
       "3    196097       1  \n",
       "4    196088       1  \n",
       "5    193654       1  \n",
       "6    196060       1  \n",
       "7    195720       1  \n",
       "8    195809       1  \n",
       "9    194310       1  "
      ]
     },
     "execution_count": 24,
     "metadata": {},
     "output_type": "execute_result"
    }
   ],
   "source": [
    "test.head(10)"
   ]
  },
  {
   "cell_type": "code",
   "execution_count": null,
   "metadata": {
    "collapsed": false
   },
   "outputs": [],
   "source": [
    "xwalk.head(25)"
   ]
  },
  {
   "cell_type": "code",
   "execution_count": null,
   "metadata": {
    "collapsed": false
   },
   "outputs": [],
   "source": [
    "from fuzzywuzzy import fuzz, process\n",
    "\n",
    "def basic_match(a, b, keyA, keyB, cutoff, quickmatch):\n",
    "\n",
    "    title = \"Fuzzy Matching Results\"\n",
    "    #bar = pyprind.ProgBar(50, monitor=True, title=title)\n",
    "\n",
    "    return b[keyB].unique()"
   ]
  },
  {
   "cell_type": "code",
   "execution_count": null,
   "metadata": {
    "collapsed": false
   },
   "outputs": [],
   "source": [
    "test = basic_match(us_news, ipeds, keyA=\"school\", keyB=\"school\", cutoff=60, quickmatch=True)"
   ]
  },
  {
   "cell_type": "code",
   "execution_count": null,
   "metadata": {
    "collapsed": false
   },
   "outputs": [],
   "source": [
    "print test[:10]"
   ]
  },
  {
   "cell_type": "code",
   "execution_count": null,
   "metadata": {
    "collapsed": false
   },
   "outputs": [],
   "source": [
    "match = process.extractOne(\"YALE UNIVERSITY\", test, scorer=fuzz.ratio, score_cutoff=60)\n",
    "print match\n"
   ]
  },
  {
   "cell_type": "code",
   "execution_count": null,
   "metadata": {
    "collapsed": false
   },
   "outputs": [],
   "source": [
    "from fuzzywuzzy import process\n",
    "\n",
    "match = process.extractOne(\"YALE\", [\"YALE\",\"HARVARD\",\"PRINCETON\"], scorer=fuzz.ratio, score_cutoff=60)\n",
    "print match"
   ]
  },
  {
   "cell_type": "code",
   "execution_count": null,
   "metadata": {
    "collapsed": false
   },
   "outputs": [],
   "source": [
    "print nomatch_a.shape"
   ]
  },
  {
   "cell_type": "code",
   "execution_count": null,
   "metadata": {
    "collapsed": false
   },
   "outputs": [],
   "source": [
    "from fuzzywuzzy import fuzz, process\n",
    "value = \"Leroy\"\n",
    "possible = [\"L\", \"2\", \"3\"]\n",
    "\n",
    "match = process.extractOne(value, possible, score_cutoff=99)"
   ]
  },
  {
   "cell_type": "code",
   "execution_count": null,
   "metadata": {
    "collapsed": false
   },
   "outputs": [],
   "source": [
    "print match"
   ]
  },
  {
   "cell_type": "code",
   "execution_count": null,
   "metadata": {
    "collapsed": false
   },
   "outputs": [],
   "source": [
    "match = \"Not None\"\n",
    "\n",
    "if match == None:\n",
    "    print True\n",
    "else:\n",
    "    print False"
   ]
  },
  {
   "cell_type": "code",
   "execution_count": null,
   "metadata": {
    "collapsed": false
   },
   "outputs": [],
   "source": [
    "l = 5\n",
    "\n",
    "if type(l) == list:\n",
    "    print True\n",
    "else:\n",
    "    print False"
   ]
  },
  {
   "cell_type": "markdown",
   "metadata": {},
   "source": [
    "#### Fix This"
   ]
  },
  {
   "cell_type": "code",
   "execution_count": null,
   "metadata": {
    "collapsed": false
   },
   "outputs": [],
   "source": [
    "us_news.head(5)"
   ]
  },
  {
   "cell_type": "code",
   "execution_count": null,
   "metadata": {
    "collapsed": true
   },
   "outputs": [],
   "source": [
    "us_news[\"test\"] = us_news[\"state\"]"
   ]
  },
  {
   "cell_type": "code",
   "execution_count": null,
   "metadata": {
    "collapsed": false
   },
   "outputs": [],
   "source": [
    "us_news"
   ]
  },
  {
   "cell_type": "code",
   "execution_count": 26,
   "metadata": {
    "collapsed": false
   },
   "outputs": [
    {
     "name": "stdout",
     "output_type": "stream",
     "text": [
      "<class 'pandas.core.frame.DataFrame'>\n",
      "Int64Index: 142 entries, 2 to 1236\n",
      "Data columns (total 6 columns):\n",
      "category    142 non-null object\n",
      "school      142 non-null object\n",
      "score       142 non-null object\n",
      "city        142 non-null object\n",
      "state       142 non-null object\n",
      "in_a        142 non-null int64\n",
      "dtypes: int64(1), object(5)\n",
      "memory usage: 7.8+ KB\n",
      "None\n"
     ]
    }
   ],
   "source": [
    "print us_news.info()"
   ]
  },
  {
   "cell_type": "code",
   "execution_count": null,
   "metadata": {
    "collapsed": true
   },
   "outputs": [],
   "source": []
  }
 ],
 "metadata": {
  "kernelspec": {
   "display_name": "Python 2",
   "language": "python",
   "name": "python2"
  },
  "language_info": {
   "codemirror_mode": {
    "name": "ipython",
    "version": 2
   },
   "file_extension": ".py",
   "mimetype": "text/x-python",
   "name": "python",
   "nbconvert_exporter": "python",
   "pygments_lexer": "ipython2",
   "version": "2.7.10"
  }
 },
 "nbformat": 4,
 "nbformat_minor": 0
}
