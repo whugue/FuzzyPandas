{
 "cells": [
  {
   "cell_type": "markdown",
   "metadata": {},
   "source": [
    "#### Prototype FuzzyPandas Functions using U.S. News and IPEDS Data"
   ]
  },
  {
   "cell_type": "code",
   "execution_count": null,
   "metadata": {
    "collapsed": false
   },
   "outputs": [],
   "source": [
    "import numpy as np\n",
    "import pandas as pd\n",
    "from fuzzywuzzy import fuzz\n",
    "from fuzzywuzzy import process"
   ]
  },
  {
   "cell_type": "markdown",
   "metadata": {},
   "source": [
    "**First, let's read in the school ranking data scraped from usnews.com & do a little pre-processing**"
   ]
  },
  {
   "cell_type": "code",
   "execution_count": null,
   "metadata": {
    "collapsed": false
   },
   "outputs": [],
   "source": [
    "def read_us_news(pickle):\n",
    "    df = pd.read_pickle(pickle)   \n",
    "    return pd.concat([us_news, df], axis=0, ignore_index=True)\n",
    "\n",
    "us_news = pd.DataFrame() #initialize empty data frame\n",
    "us_news = read_us_news(\"example_data/us_news/usnews-ranking-national-universities.pickle\")\n",
    "us_news = read_us_news(\"example_data/us_news/usnews-ranking-national-liberal-arts-colleges.pickle\")\n",
    "us_news = read_us_news(\"example_data/us_news/usnews-ranking-regional-colleges-midwest.pickle\")\n",
    "us_news = read_us_news(\"example_data/us_news/usnews-ranking-regional-colleges-north.pickle\")\n",
    "us_news = read_us_news(\"example_data/us_news/usnews-ranking-regional-colleges-south.pickle\")\n",
    "us_news = read_us_news(\"example_data/us_news/usnews-ranking-regional-colleges-west.pickle\")\n",
    "us_news = read_us_news(\"example_data/us_news/usnews-ranking-regional-universities-midwest.pickle\")\n",
    "us_news = read_us_news(\"example_data/us_news/usnews-ranking-regional-universities-north.pickle\")\n",
    "us_news = read_us_news(\"example_data/us_news/usnews-ranking-regional-universities-south.pickle\")\n",
    "us_news = read_us_news(\"example_data/us_news/usnews-ranking-regional-universities-west.pickle\")\n",
    "\n",
    "us_news[\"city\"] = us_news.location.apply(lambda x: x.split(\", \")[0].upper().strip()) #parse out city, to upper case\n",
    "us_news[\"state\"] = us_news.location.apply(lambda x: x.split(\", \")[1].upper().strip()) #parse out state, to upper case\n",
    "us_news[\"school\"] = us_news.school.apply(lambda x: x.upper().strip()) #school name to upper case\n",
    "\n",
    "us_news.drop(\"location\", axis=1, inplace=True) #drop original location (now that we've split out into city and state)\n",
    "us_news.head(5)"
   ]
  },
  {
   "cell_type": "markdown",
   "metadata": {},
   "source": [
    "**Read in IPEDS Data & Preprocess. IPEDS Data can be downloaded for free here:**\n",
    "https://nces.ed.gov/ipeds/datacenter/Default.aspx"
   ]
  },
  {
   "cell_type": "code",
   "execution_count": null,
   "metadata": {
    "collapsed": false
   },
   "outputs": [],
   "source": [
    "ipeds=pd.read_csv(\"example_data/ipeds/HD2014.csv\")[[\"UNITID\",\"INSTNM\",\"CITY\",\"STABBR\"]]\n",
    "\n",
    "ipeds.rename(columns={\"UNITID\":\"unitid\",\"INSTNM\":\"school\",\"CITY\":\"city\",\"STABBR\":\"state\"},inplace=True) \n",
    "#rename columns to match U.S. News Data\n",
    "\n",
    "ipeds[\"school\"] = ipeds.school.apply(lambda x: x.upper().strip()) #school to upper case\n",
    "ipeds[\"city\"] = ipeds.city.apply(lambda x: x.upper().strip()) #city to upper case\n",
    "ipeds[\"state\"] = ipeds.state.apply(lambda x: x.upper().strip()) #state to upper case\n",
    "ipeds.head(5)"
   ]
  },
  {
   "cell_type": "markdown",
   "metadata": {},
   "source": [
    "** Instead, let's use FuzzyPandas to match each school in the U.S. News Data to it's CLOSEST, but not necessarily EXACT, U.S. News Match**"
   ]
  },
  {
   "cell_type": "code",
   "execution_count": null,
   "metadata": {
    "collapsed": true
   },
   "outputs": [],
   "source": [
    "##Function to Do a Regular Exact Pandas Join and Return Dataframes of Matches and Nonmatches\n",
    "def exact_merge(a, b, exact_on):\n",
    "    a[\"in_a\"] = 1\n",
    "    b[\"in_b\"] = 1\n",
    "    \n",
    "    #Join and return seperate dataframes for matches and non-matches\n",
    "    merged = pd.merge(a, b, how=\"outer\", on=exact_on)\n",
    "    matched = merged[(merged.in_a==1) & (merged.in_b==1)].copy()\n",
    "    nomatch = merged[(merged.in_a.isnull()) | (merged.in_b.isnull())].copy()\n",
    "    \n",
    "    matched[\"fuzz_match_score\"] = 1.0 #score for all matched is 1.0 by default\n",
    "    \n",
    "    return matched, nomatch"
   ]
  },
  {
   "cell_type": "code",
   "execution_count": null,
   "metadata": {
    "collapsed": false
   },
   "outputs": [],
   "source": [
    "exact = exact_merge(us_news, ipeds, exact_on=[\"state\",\"city\",\"school\"])\n",
    "print \"Matched:     \", exact[0].shape[0]\n",
    "print \"Non-Matched: \", exact[1].shape[0]"
   ]
  },
  {
   "cell_type": "code",
   "execution_count": null,
   "metadata": {
    "collapsed": false
   },
   "outputs": [],
   "source": [
    "##Function to Do a Fuzzy Match\n",
    "##This on takes way to long to run; need to find a way to make more efficient\n",
    "def fuzzy_merge(a, b, fuzz_on, how=\"left\", score_cutoff=0.6):\n",
    "    merged = exact_merge(a=a, b=b, exact_on=fuzz_on) #Run Exact Merge\n",
    "    matched = merged[0] #Pull Out matches\n",
    "    nomatch = merged[1] #Pull Out Nonmatched\n",
    "    \n",
    "    ##If No Nonmatched, we're done :). Just Return Matched Dataframe\n",
    "    if nomatch.shape[0] == 0: #if no non-matches, just return the merged dataframe\n",
    "        return matched\n",
    "    \n",
    "    ##Otherwise, Proceed to Fuzzy Matching Non-Matches\n",
    "    else:\n",
    "        nomatch_a = nomatch[nomatch.in_a==1].copy()\n",
    "        nomatch_b = nomatch[nomatch.in_b==1].copy()\n",
    "        \n",
    "        ##If Multiple By-Variables, String them Together for Fuzzy Merge. Otherwise, Use Single By-Varaiable\n",
    "        if len(fuzz_on) > 1:\n",
    "            nomatch_a[\"byvar\"] = nomatch_a[fuzz_on].apply(lambda x: \" \".join(x), axis=1)\n",
    "            nomatch_b[\"byvar\"] = nomatch_b[fuzz_on].apply(lambda x: \" \".join(x), axis=1)\n",
    "        else:\n",
    "            nomatch_a[\"byvar\"] = nomatch_a[fuzz_on]\n",
    "            nomatch_b[\"byvar\"] = nomatch_b[fuzz_on]\n",
    "        \n",
    "        ##For Each Nonmatch in Dataframe A, Use FuzzyWuzzy to Match to Closest Dataframe B Nonmatched\n",
    "        fuzzy_matches=[]\n",
    "        for each in nomatch_a.byvar.unique():\n",
    "            fuzzy_match = process.extractOne(each, nomatch_b.byvar.unique(), score_cutoff=score_cutoff)\n",
    "            \n",
    "            if fuzzy_match==None:\n",
    "                fuzzy_matches.append({\"byvar\": each, \"matchvar\": np.nan, \"fuzzy_match_score\": np.nan})\n",
    "            else:\n",
    "                fuzzy_matches.append({\"byvar\": each, \"matchvar\": fuzzy_match[0], \"fuzzy_match_score\": fuzzy_match[1]})\n",
    "                \n",
    "        fuzzy_matches = pd.DataFrame(fuzzy_matches)\n",
    "        \n",
    "        ##Merge Dataframe A Nonmatches to Dataframe B Nonmatches. Append to Exact Matches and Return\n",
    "        nomatch_b.rename(columns={\"byvar\":\"matchvar\"})\n",
    "        fuzzy_merge1 = pd.merge(nomatch_a, fuzzy_matches, on=\"byvar\", how=\"left\")\n",
    "        fuzzy_merge2 = pd.merge(nomatch_a, nomatch_a, on=\"matchvar\", how=how)\n",
    "        \n",
    "        return pd.concat([matched, fuzzy_merge2], axis=0).drop([\"byvar\", \"merged\"])"
   ]
  },
  {
   "cell_type": "code",
   "execution_count": null,
   "metadata": {
    "collapsed": false
   },
   "outputs": [],
   "source": [
    "ny_us_news = us_news[us_news.state==\"NY\"].copy()\n",
    "ny_ipeds = ipeds[ipeds.state==\"NY\"].copy()\n",
    "\n",
    "print ny_us_news.shape, ny_ipeds.shape"
   ]
  },
  {
   "cell_type": "code",
   "execution_count": null,
   "metadata": {
    "collapsed": false
   },
   "outputs": [],
   "source": [
    "ny_test = fuzzy_merge(us_news, ipeds, fuzz_on=[\"state\",\"city\",\"school\"])"
   ]
  },
  {
   "cell_type": "code",
   "execution_count": null,
   "metadata": {
    "collapsed": true
   },
   "outputs": [],
   "source": []
  },
  {
   "cell_type": "code",
   "execution_count": null,
   "metadata": {
    "collapsed": true
   },
   "outputs": [],
   "source": []
  },
  {
   "cell_type": "code",
   "execution_count": null,
   "metadata": {
    "collapsed": true
   },
   "outputs": [],
   "source": []
  },
  {
   "cell_type": "code",
   "execution_count": null,
   "metadata": {
    "collapsed": true
   },
   "outputs": [],
   "source": [
    "##Second Attempt :)\n",
    "\n",
    "\n",
    "##Function to Create Fuzzy Matches By-Variable Crosswalk Between List of Values A and List of Values B\n",
    "def create_crosswalk(list_a, list_b, byvar, cutoff):\n",
    "    matches = []\n",
    "    \n",
    "    for item in list_a:\n",
    "        match = process.extractOne(each, list_b, score_cutoff=cutoff)\n",
    "        \n",
    "        if fuzz_match==None:\n",
    "            matches.append({\"byvar\": each, \"matchvar\": np.nan, \"fuzzy_match_score\": np.nan})\n",
    "        else:\n",
    "            matches.append({\"byvar\": each, \"matchvar\": fuzzy_match[0], \"fuzzy_match_score\": fuzzy_match[1]})\n",
    "      \n",
    "    return pd.DataFrame(matches)\n",
    "\n",
    "\n",
    "##Function to Impliment the Fuzzy Merge\n",
    "def fuzzy_merge(a, b, fuzz_on, how=\"left\", cutoffs):\n",
    "\n",
    "    ##First, Do a Regular Pandas Join & Output Matches and Nonmatches\n",
    "    a[\"in_a\"] = 1 #Set Flag for Being in DF A\n",
    "    b[\"in_b\"] = 1 #Set Flag for Being in DF B\n",
    "    \n",
    "    merged = pd.merge(a, b, how=\"outer\", on=on)\n",
    "    \n",
    "    matched = merged[(merged.in_a.notnull()) & (merged.in_b.notnull())].copy()\n",
    "    matched[\"fuzz_match_score\"] = 1.0 #score for all matched is 1.0 by default\n",
    "    \n",
    "    nomatch_a = merged[(merged.in_a.notnull()) & (merged.in_b.isnull())].copy()\n",
    "    nomatch_b = merged[(merged.in_a.isnull()) & (merged.in_b.notnull())].copy()\n",
    "    \n",
    "    ##If no nonmatches, we're done :). Return Matched Dataframe\n",
    "    if nomatch_a.shape[0]==0 or nomatch_b.shape[0]==0:\n",
    "        return matched\n",
    "    \n",
    "    ##Otherwise, Proceed to fuzzy matching. Fuzzy Merge on first by-variable, than second, etc.\n",
    "    else:\n",
    "        fuzzy_matches = pd.DataFrame() #initialize empty dataframe to hold matches\n",
    "        \n",
    "        i = 0\n",
    "        slice_a = nomatch_a.copy()\n",
    "        slice_b = nomatch_b.copy()\n",
    "        \n",
    "        while i < len(fuzz_on):\n",
    "            byvar=fuzz_on[i]\n",
    "            cutoff = cutoffs[i]\n",
    "            \n",
    "            list_a = slice_a[byvar].unique().tolist()\n",
    "            list_b = slice_a[byvar].unique().tolist()\n",
    "            \n",
    "            crosswalk = \n",
    "            \n",
    "            \n",
    "\n",
    "    \n",
    "\n",
    "    \n",
    "  \n",
    "    \n",
    "            \n",
    "            \n",
    "        \n",
    "        \n",
    "            \n",
    "            \n",
    "            \n",
    "            \n",
    "            i+=1\n",
    "        \n",
    "    \n",
    "\n",
    "\n",
    "        \n",
    "        ##Merge Dataframe A Nonmatches to Dataframe B Nonmatches. Append to Exact Matches and Return\n",
    "        nomatch_b.rename(columns={\"byvar\":\"matchvar\"})\n",
    "        fuzzy_merge1 = pd.merge(nomatch_a, fuzzy_matches, on=\"byvar\", how=\"left\")\n",
    "        fuzzy_merge2 = pd.merge(nomatch_a, nomatch_a, on=\"matchvar\", how=how)\n",
    "        \n",
    "        return pd.concat([matched, fuzzy_merge2], axis=0).drop([\"byvar\", \"merged\"])"
   ]
  },
  {
   "cell_type": "code",
   "execution_count": null,
   "metadata": {
    "collapsed": true
   },
   "outputs": [],
   "source": []
  },
  {
   "cell_type": "code",
   "execution_count": null,
   "metadata": {
    "collapsed": true
   },
   "outputs": [],
   "source": [
    "def partial_fuzzy_merge(a, b, exact_on, fuzz_on, how=\"left\", cutoffs):\n",
    "    pass"
   ]
  }
 ],
 "metadata": {
  "kernelspec": {
   "display_name": "Python 2",
   "language": "python",
   "name": "python2"
  },
  "language_info": {
   "codemirror_mode": {
    "name": "ipython",
    "version": 2
   },
   "file_extension": ".py",
   "mimetype": "text/x-python",
   "name": "python",
   "nbconvert_exporter": "python",
   "pygments_lexer": "ipython2",
   "version": "2.7.10"
  }
 },
 "nbformat": 4,
 "nbformat_minor": 0
}
