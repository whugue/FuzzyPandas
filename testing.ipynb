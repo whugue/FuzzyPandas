{
 "cells": [
  {
   "cell_type": "markdown",
   "metadata": {},
   "source": [
    "####  Test Out FuzzyPandas Functionality"
   ]
  },
  {
   "cell_type": "code",
   "execution_count": 36,
   "metadata": {
    "collapsed": false
   },
   "outputs": [
    {
     "name": "stdout",
     "output_type": "stream",
     "text": [
      "The autoreload extension is already loaded. To reload it, use:\n",
      "  %reload_ext autoreload\n"
     ]
    }
   ],
   "source": [
    "%load_ext autoreload\n",
    "%autoreload 2\n",
    "\n",
    "import os\n",
    "import pandas as pd\n",
    "import fuzzypandas as fp"
   ]
  },
  {
   "cell_type": "markdown",
   "metadata": {},
   "source": [
    "#### Read In U.S. News Data"
   ]
  },
  {
   "cell_type": "code",
   "execution_count": 19,
   "metadata": {
    "collapsed": false
   },
   "outputs": [],
   "source": [
    "def stack_us_news(dir):\n",
    "    '''\n",
    "    Stack the individual scraped US News files into a single dataframe\n",
    "    '''\n",
    "    # get a list of files in directory\n",
    "    files = os.listdir(dir)\n",
    "    files = [file for file in files if '.pickle' in file]\n",
    "    df = pd.DataFrame()\n",
    "    \n",
    "    # loop through files and append to a master dataframe\n",
    "    for file in files:\n",
    "        print('Importing: {file}'.format(file=file))\n",
    "        chunk = pd.read_pickle('{dir}/{file}'.format(dir=dir, file=file))\n",
    "        df = pd.concat([df, chunk], axis=0)\n",
    "        \n",
    "    # Separate out city and state from location\n",
    "    df[\"city\"] = df.location.apply(lambda x: x.split(\", \")[0].upper().strip())\n",
    "    df[\"state\"] = df.location.apply(lambda x: x.split(\", \")[1].upper().strip())\n",
    "    df[\"school\"] = df.school.apply(lambda x: x.upper().strip())\n",
    "\n",
    "    del df['location']\n",
    "    return df"
   ]
  },
  {
   "cell_type": "code",
   "execution_count": 4,
   "metadata": {
    "collapsed": false
   },
   "outputs": [
    {
     "name": "stdout",
     "output_type": "stream",
     "text": [
      "(1506, 5)\n"
     ]
    },
    {
     "data": {
      "text/html": [
       "<div>\n",
       "<style>\n",
       "    .dataframe thead tr:only-child th {\n",
       "        text-align: right;\n",
       "    }\n",
       "\n",
       "    .dataframe thead th {\n",
       "        text-align: left;\n",
       "    }\n",
       "\n",
       "    .dataframe tbody tr th {\n",
       "        vertical-align: top;\n",
       "    }\n",
       "</style>\n",
       "<table border=\"1\" class=\"dataframe\">\n",
       "  <thead>\n",
       "    <tr style=\"text-align: right;\">\n",
       "      <th></th>\n",
       "      <th>category</th>\n",
       "      <th>school</th>\n",
       "      <th>score</th>\n",
       "      <th>city</th>\n",
       "      <th>state</th>\n",
       "    </tr>\n",
       "  </thead>\n",
       "  <tbody>\n",
       "    <tr>\n",
       "      <th>0</th>\n",
       "      <td>Regional Colleges North</td>\n",
       "      <td>UNITED STATES COAST GUARD ACADEMY</td>\n",
       "      <td>100 out of 100.</td>\n",
       "      <td>NEW LONDON</td>\n",
       "      <td>CT</td>\n",
       "    </tr>\n",
       "    <tr>\n",
       "      <th>1</th>\n",
       "      <td>Regional Colleges North</td>\n",
       "      <td>COOPER UNION</td>\n",
       "      <td>94 out of 100.</td>\n",
       "      <td>NEW YORK</td>\n",
       "      <td>NY</td>\n",
       "    </tr>\n",
       "    <tr>\n",
       "      <th>2</th>\n",
       "      <td>Regional Colleges North</td>\n",
       "      <td>UNITED STATES MERCHANT MARINE ACADEMY</td>\n",
       "      <td>74 out of 100.</td>\n",
       "      <td>KINGS POINT</td>\n",
       "      <td>NY</td>\n",
       "    </tr>\n",
       "    <tr>\n",
       "      <th>3</th>\n",
       "      <td>Regional Colleges North</td>\n",
       "      <td>ELIZABETHTOWN COLLEGE</td>\n",
       "      <td>67 out of 100.</td>\n",
       "      <td>ELIZABETHTOWN</td>\n",
       "      <td>PA</td>\n",
       "    </tr>\n",
       "    <tr>\n",
       "      <th>4</th>\n",
       "      <td>Regional Colleges North</td>\n",
       "      <td>MESSIAH COLLEGE</td>\n",
       "      <td>65 out of 100.</td>\n",
       "      <td>MECHANICSBURG</td>\n",
       "      <td>PA</td>\n",
       "    </tr>\n",
       "  </tbody>\n",
       "</table>\n",
       "</div>"
      ],
      "text/plain": [
       "                  category                                 school  \\\n",
       "0  Regional Colleges North      UNITED STATES COAST GUARD ACADEMY   \n",
       "1  Regional Colleges North                           COOPER UNION   \n",
       "2  Regional Colleges North  UNITED STATES MERCHANT MARINE ACADEMY   \n",
       "3  Regional Colleges North                  ELIZABETHTOWN COLLEGE   \n",
       "4  Regional Colleges North                        MESSIAH COLLEGE   \n",
       "\n",
       "             score           city state  \n",
       "0  100 out of 100.     NEW LONDON    CT  \n",
       "1   94 out of 100.       NEW YORK    NY  \n",
       "2   74 out of 100.    KINGS POINT    NY  \n",
       "3   67 out of 100.  ELIZABETHTOWN    PA  \n",
       "4   65 out of 100.  MECHANICSBURG    PA  "
      ]
     },
     "execution_count": 4,
     "metadata": {},
     "output_type": "execute_result"
    }
   ],
   "source": [
    "# usnews = stack_us_news('testdata/us_news/')\n",
    "# usnews.to_pickle('testdata/us_news/usnews.pkl')\n",
    "\n",
    "usnews = pd.read_pickle('testdata/us_news/usnews.pkl')\n",
    "print(usnews.shape)\n",
    "usnews.head()"
   ]
  },
  {
   "cell_type": "code",
   "execution_count": null,
   "metadata": {
    "collapsed": false
   },
   "outputs": [],
   "source": []
  },
  {
   "cell_type": "markdown",
   "metadata": {},
   "source": [
    "#### Read in IPEDS Data (IPEDS can be downloaded for free [here](https://nces.ed.gov/ipeds/datacenter/Default.aspx))"
   ]
  },
  {
   "cell_type": "code",
   "execution_count": 5,
   "metadata": {
    "collapsed": false
   },
   "outputs": [
    {
     "name": "stdout",
     "output_type": "stream",
     "text": [
      "(7687, 4)\n"
     ]
    },
    {
     "data": {
      "text/html": [
       "<div>\n",
       "<style>\n",
       "    .dataframe thead tr:only-child th {\n",
       "        text-align: right;\n",
       "    }\n",
       "\n",
       "    .dataframe thead th {\n",
       "        text-align: left;\n",
       "    }\n",
       "\n",
       "    .dataframe tbody tr th {\n",
       "        vertical-align: top;\n",
       "    }\n",
       "</style>\n",
       "<table border=\"1\" class=\"dataframe\">\n",
       "  <thead>\n",
       "    <tr style=\"text-align: right;\">\n",
       "      <th></th>\n",
       "      <th>unitid</th>\n",
       "      <th>school</th>\n",
       "      <th>city</th>\n",
       "      <th>state</th>\n",
       "    </tr>\n",
       "  </thead>\n",
       "  <tbody>\n",
       "    <tr>\n",
       "      <th>0</th>\n",
       "      <td>100636</td>\n",
       "      <td>COMMUNITY COLLEGE OF THE AIR FORCE</td>\n",
       "      <td>MONTGOMERY</td>\n",
       "      <td>AL</td>\n",
       "    </tr>\n",
       "    <tr>\n",
       "      <th>1</th>\n",
       "      <td>100654</td>\n",
       "      <td>ALABAMA A &amp; M UNIVERSITY</td>\n",
       "      <td>NORMAL</td>\n",
       "      <td>AL</td>\n",
       "    </tr>\n",
       "    <tr>\n",
       "      <th>2</th>\n",
       "      <td>100663</td>\n",
       "      <td>UNIVERSITY OF ALABAMA AT BIRMINGHAM</td>\n",
       "      <td>BIRMINGHAM</td>\n",
       "      <td>AL</td>\n",
       "    </tr>\n",
       "    <tr>\n",
       "      <th>3</th>\n",
       "      <td>100690</td>\n",
       "      <td>AMRIDGE UNIVERSITY</td>\n",
       "      <td>MONTGOMERY</td>\n",
       "      <td>AL</td>\n",
       "    </tr>\n",
       "    <tr>\n",
       "      <th>4</th>\n",
       "      <td>100706</td>\n",
       "      <td>UNIVERSITY OF ALABAMA IN HUNTSVILLE</td>\n",
       "      <td>HUNTSVILLE</td>\n",
       "      <td>AL</td>\n",
       "    </tr>\n",
       "  </tbody>\n",
       "</table>\n",
       "</div>"
      ],
      "text/plain": [
       "   unitid                               school        city state\n",
       "0  100636   COMMUNITY COLLEGE OF THE AIR FORCE  MONTGOMERY    AL\n",
       "1  100654             ALABAMA A & M UNIVERSITY      NORMAL    AL\n",
       "2  100663  UNIVERSITY OF ALABAMA AT BIRMINGHAM  BIRMINGHAM    AL\n",
       "3  100690                   AMRIDGE UNIVERSITY  MONTGOMERY    AL\n",
       "4  100706  UNIVERSITY OF ALABAMA IN HUNTSVILLE  HUNTSVILLE    AL"
      ]
     },
     "execution_count": 5,
     "metadata": {},
     "output_type": "execute_result"
    }
   ],
   "source": [
    "ipeds = pd.read_csv(\"testdata/ipeds/HD2014.csv\", encoding='latin1')\n",
    "ipeds = ipeds[[\"UNITID\",\"INSTNM\",\"CITY\",\"STABBR\"]]\n",
    "ipeds.rename(columns={\"UNITID\": \"unitid\",\n",
    "                      \"INSTNM\" :\"school\",\n",
    "                      \"CITY\": \"city\",\n",
    "                      \"STABBR\": \"state\"}, inplace=True) \n",
    "\n",
    "# Convert keys to uppercase & strip blankspace\n",
    "ipeds[\"school\"] = ipeds.school.apply(lambda x: x.upper().strip())\n",
    "ipeds[\"city\"] = ipeds.city.apply(lambda x: x.upper().strip()) \n",
    "ipeds[\"state\"] = ipeds.state.apply(lambda x: x.upper().strip())\n",
    "\n",
    "print(ipeds.shape)\n",
    "ipeds.head()"
   ]
  },
  {
   "cell_type": "code",
   "execution_count": null,
   "metadata": {
    "collapsed": false
   },
   "outputs": [],
   "source": []
  },
  {
   "cell_type": "markdown",
   "metadata": {},
   "source": [
    "#### TEST: Subset to only CT schools"
   ]
  },
  {
   "cell_type": "code",
   "execution_count": 8,
   "metadata": {
    "collapsed": false
   },
   "outputs": [
    {
     "name": "stdout",
     "output_type": "stream",
     "text": [
      "(21, 5)\n",
      "(97, 4)\n"
     ]
    }
   ],
   "source": [
    "usnews=usnews[usnews.state=='CT'].copy()\n",
    "ipeds=ipeds[ipeds.state=='CT'].copy()\n",
    "\n",
    "print(usnews.shape)\n",
    "print(ipeds.shape)"
   ]
  },
  {
   "cell_type": "code",
   "execution_count": 37,
   "metadata": {
    "collapsed": false
   },
   "outputs": [
    {
     "name": "stderr",
     "output_type": "stream",
     "text": [
      "2018-08-01 00:00:21,807 - fuzzypandas - INFO - Starting Pair Scoring for 6111 combinations.\n",
      "2018-08-01 00:00:22,079 - fuzzypandas - INFO - Completed pair matching.\n"
     ]
    },
    {
     "name": "stdout",
     "output_type": "stream",
     "text": [
      "(21, 10)\n"
     ]
    },
    {
     "data": {
      "text/html": [
       "<div>\n",
       "<style>\n",
       "    .dataframe thead tr:only-child th {\n",
       "        text-align: right;\n",
       "    }\n",
       "\n",
       "    .dataframe thead th {\n",
       "        text-align: left;\n",
       "    }\n",
       "\n",
       "    .dataframe tbody tr th {\n",
       "        vertical-align: top;\n",
       "    }\n",
       "</style>\n",
       "<table border=\"1\" class=\"dataframe\">\n",
       "  <thead>\n",
       "    <tr style=\"text-align: right;\">\n",
       "      <th></th>\n",
       "      <th>avg_match_score</th>\n",
       "      <th>city</th>\n",
       "      <th>city_match_score</th>\n",
       "      <th>city_matched</th>\n",
       "      <th>school</th>\n",
       "      <th>school_match_score</th>\n",
       "      <th>school_matched</th>\n",
       "      <th>state</th>\n",
       "      <th>state_match_score</th>\n",
       "      <th>state_matched</th>\n",
       "    </tr>\n",
       "  </thead>\n",
       "  <tbody>\n",
       "    <tr>\n",
       "      <th>1268</th>\n",
       "      <td>100.0</td>\n",
       "      <td>BRIDGEPORT</td>\n",
       "      <td>100</td>\n",
       "      <td>BRIDGEPORT</td>\n",
       "      <td>UNIVERSITY OF BRIDGEPORT</td>\n",
       "      <td>100</td>\n",
       "      <td>UNIVERSITY OF BRIDGEPORT</td>\n",
       "      <td>CT</td>\n",
       "      <td>100</td>\n",
       "      <td>CT</td>\n",
       "    </tr>\n",
       "    <tr>\n",
       "      <th>1414</th>\n",
       "      <td>100.0</td>\n",
       "      <td>DANBURY</td>\n",
       "      <td>100</td>\n",
       "      <td>DANBURY</td>\n",
       "      <td>WESTERN CONNECTICUT STATE UNIVERSITY</td>\n",
       "      <td>100</td>\n",
       "      <td>WESTERN CONNECTICUT STATE UNIVERSITY</td>\n",
       "      <td>CT</td>\n",
       "      <td>100</td>\n",
       "      <td>CT</td>\n",
       "    </tr>\n",
       "    <tr>\n",
       "      <th>309</th>\n",
       "      <td>100.0</td>\n",
       "      <td>FAIRFIELD</td>\n",
       "      <td>100</td>\n",
       "      <td>FAIRFIELD</td>\n",
       "      <td>FAIRFIELD UNIVERSITY</td>\n",
       "      <td>100</td>\n",
       "      <td>FAIRFIELD UNIVERSITY</td>\n",
       "      <td>CT</td>\n",
       "      <td>100</td>\n",
       "      <td>CT</td>\n",
       "    </tr>\n",
       "    <tr>\n",
       "      <th>531</th>\n",
       "      <td>100.0</td>\n",
       "      <td>FAIRFIELD</td>\n",
       "      <td>100</td>\n",
       "      <td>FAIRFIELD</td>\n",
       "      <td>SACRED HEART UNIVERSITY</td>\n",
       "      <td>100</td>\n",
       "      <td>SACRED HEART UNIVERSITY</td>\n",
       "      <td>CT</td>\n",
       "      <td>100</td>\n",
       "      <td>CT</td>\n",
       "    </tr>\n",
       "    <tr>\n",
       "      <th>433</th>\n",
       "      <td>100.0</td>\n",
       "      <td>HAMDEN</td>\n",
       "      <td>100</td>\n",
       "      <td>HAMDEN</td>\n",
       "      <td>QUINNIPIAC UNIVERSITY</td>\n",
       "      <td>100</td>\n",
       "      <td>QUINNIPIAC UNIVERSITY</td>\n",
       "      <td>CT</td>\n",
       "      <td>100</td>\n",
       "      <td>CT</td>\n",
       "    </tr>\n",
       "  </tbody>\n",
       "</table>\n",
       "</div>"
      ],
      "text/plain": [
       "      avg_match_score        city  city_match_score city_matched  \\\n",
       "1268            100.0  BRIDGEPORT               100   BRIDGEPORT   \n",
       "1414            100.0     DANBURY               100      DANBURY   \n",
       "309             100.0   FAIRFIELD               100    FAIRFIELD   \n",
       "531             100.0   FAIRFIELD               100    FAIRFIELD   \n",
       "433             100.0      HAMDEN               100       HAMDEN   \n",
       "\n",
       "                                    school  school_match_score  \\\n",
       "1268              UNIVERSITY OF BRIDGEPORT                 100   \n",
       "1414  WESTERN CONNECTICUT STATE UNIVERSITY                 100   \n",
       "309                   FAIRFIELD UNIVERSITY                 100   \n",
       "531                SACRED HEART UNIVERSITY                 100   \n",
       "433                  QUINNIPIAC UNIVERSITY                 100   \n",
       "\n",
       "                            school_matched state  state_match_score  \\\n",
       "1268              UNIVERSITY OF BRIDGEPORT    CT                100   \n",
       "1414  WESTERN CONNECTICUT STATE UNIVERSITY    CT                100   \n",
       "309                   FAIRFIELD UNIVERSITY    CT                100   \n",
       "531                SACRED HEART UNIVERSITY    CT                100   \n",
       "433                  QUINNIPIAC UNIVERSITY    CT                100   \n",
       "\n",
       "     state_matched  \n",
       "1268            CT  \n",
       "1414            CT  \n",
       "309             CT  \n",
       "531             CT  \n",
       "433             CT  "
      ]
     },
     "execution_count": 37,
     "metadata": {},
     "output_type": "execute_result"
    }
   ],
   "source": [
    "pairs = fp.matcher(usnews, ipeds, on=['state', 'city', 'school'], score_cutoff=60)\n",
    "\n",
    "print(pairs.shape)\n",
    "pairs.head()"
   ]
  },
  {
   "cell_type": "code",
   "execution_count": null,
   "metadata": {
    "collapsed": false
   },
   "outputs": [],
   "source": []
  },
  {
   "cell_type": "code",
   "execution_count": null,
   "metadata": {
    "collapsed": true
   },
   "outputs": [],
   "source": []
  },
  {
   "cell_type": "code",
   "execution_count": 22,
   "metadata": {
    "collapsed": false
   },
   "outputs": [
    {
     "data": {
      "text/plain": [
       "[True, True, True, False]"
      ]
     },
     "execution_count": 22,
     "metadata": {},
     "output_type": "execute_result"
    }
   ],
   "source": [
    "[True] * 3 + [False]"
   ]
  },
  {
   "cell_type": "code",
   "execution_count": null,
   "metadata": {
    "collapsed": true
   },
   "outputs": [],
   "source": [
    "testA = us_news[[\"school\",\"category\"]].copy()\n",
    "testB = ipeds[[\"school\", \"unitid\"]].copy()"
   ]
  },
  {
   "cell_type": "code",
   "execution_count": null,
   "metadata": {
    "collapsed": false
   },
   "outputs": [],
   "source": [
    "testA.head(2)"
   ]
  },
  {
   "cell_type": "code",
   "execution_count": null,
   "metadata": {
    "collapsed": false
   },
   "outputs": [],
   "source": [
    "testB.head(2)"
   ]
  },
  {
   "cell_type": "code",
   "execution_count": null,
   "metadata": {
    "collapsed": false
   },
   "outputs": [],
   "source": [
    "test = fp.fuzzy_merge(us_news, ipeds, on=[\"state\",\"city\",\"school\"])"
   ]
  },
  {
   "cell_type": "code",
   "execution_count": null,
   "metadata": {
    "collapsed": false
   },
   "outputs": [],
   "source": [
    "test.head(10)"
   ]
  },
  {
   "cell_type": "code",
   "execution_count": null,
   "metadata": {
    "collapsed": false
   },
   "outputs": [],
   "source": [
    "xwalk.head(25)"
   ]
  },
  {
   "cell_type": "code",
   "execution_count": null,
   "metadata": {
    "collapsed": false
   },
   "outputs": [],
   "source": [
    "from fuzzywuzzy import fuzz, process\n",
    "\n",
    "def basic_match(a, b, keyA, keyB, cutoff, quickmatch):\n",
    "\n",
    "    title = \"Fuzzy Matching Results\"\n",
    "    #bar = pyprind.ProgBar(50, monitor=True, title=title)\n",
    "\n",
    "    return b[keyB].unique()"
   ]
  },
  {
   "cell_type": "code",
   "execution_count": null,
   "metadata": {
    "collapsed": false
   },
   "outputs": [],
   "source": [
    "test = basic_match(us_news, ipeds, keyA=\"school\", keyB=\"school\", cutoff=60, quickmatch=True)"
   ]
  },
  {
   "cell_type": "code",
   "execution_count": null,
   "metadata": {
    "collapsed": false
   },
   "outputs": [],
   "source": [
    "print test[:10]"
   ]
  },
  {
   "cell_type": "code",
   "execution_count": null,
   "metadata": {
    "collapsed": false
   },
   "outputs": [],
   "source": [
    "match = process.extractOne(\"YALE UNIVERSITY\", test, scorer=fuzz.ratio, score_cutoff=60)\n",
    "print match\n"
   ]
  },
  {
   "cell_type": "code",
   "execution_count": null,
   "metadata": {
    "collapsed": false
   },
   "outputs": [],
   "source": [
    "from fuzzywuzzy import process\n",
    "\n",
    "match = process.extractOne(\"YALE\", [\"YALE\",\"HARVARD\",\"PRINCETON\"], scorer=fuzz.ratio, score_cutoff=60)\n",
    "print match"
   ]
  },
  {
   "cell_type": "code",
   "execution_count": null,
   "metadata": {
    "collapsed": false
   },
   "outputs": [],
   "source": [
    "print nomatch_a.shape"
   ]
  },
  {
   "cell_type": "code",
   "execution_count": null,
   "metadata": {
    "collapsed": false
   },
   "outputs": [],
   "source": [
    "from fuzzywuzzy import fuzz, process\n",
    "value = \"Leroy\"\n",
    "possible = [\"L\", \"2\", \"3\"]\n",
    "\n",
    "match = process.extractOne(value, possible, score_cutoff=99)"
   ]
  },
  {
   "cell_type": "code",
   "execution_count": null,
   "metadata": {
    "collapsed": false
   },
   "outputs": [],
   "source": [
    "print match"
   ]
  },
  {
   "cell_type": "code",
   "execution_count": null,
   "metadata": {
    "collapsed": false
   },
   "outputs": [],
   "source": [
    "match = \"Not None\"\n",
    "\n",
    "if match == None:\n",
    "    print True\n",
    "else:\n",
    "    print False"
   ]
  },
  {
   "cell_type": "code",
   "execution_count": null,
   "metadata": {
    "collapsed": false
   },
   "outputs": [],
   "source": [
    "l = 5\n",
    "\n",
    "if type(l) == list:\n",
    "    print True\n",
    "else:\n",
    "    print False"
   ]
  },
  {
   "cell_type": "markdown",
   "metadata": {},
   "source": [
    "#### Fix This"
   ]
  },
  {
   "cell_type": "code",
   "execution_count": null,
   "metadata": {
    "collapsed": false
   },
   "outputs": [],
   "source": [
    "us_news.head(5)"
   ]
  },
  {
   "cell_type": "code",
   "execution_count": null,
   "metadata": {
    "collapsed": true
   },
   "outputs": [],
   "source": [
    "us_news[\"test\"] = us_news[\"state\"]"
   ]
  },
  {
   "cell_type": "code",
   "execution_count": null,
   "metadata": {
    "collapsed": false
   },
   "outputs": [],
   "source": [
    "us_news"
   ]
  },
  {
   "cell_type": "code",
   "execution_count": null,
   "metadata": {
    "collapsed": false
   },
   "outputs": [],
   "source": [
    "print us_news.info()"
   ]
  },
  {
   "cell_type": "code",
   "execution_count": null,
   "metadata": {
    "collapsed": true
   },
   "outputs": [],
   "source": []
  }
 ],
 "metadata": {
  "kernelspec": {
   "display_name": "Python 3",
   "language": "python",
   "name": "python3"
  },
  "language_info": {
   "codemirror_mode": {
    "name": "ipython",
    "version": 3
   },
   "file_extension": ".py",
   "mimetype": "text/x-python",
   "name": "python",
   "nbconvert_exporter": "python",
   "pygments_lexer": "ipython3",
   "version": "3.6.1"
  }
 },
 "nbformat": 4,
 "nbformat_minor": 0
}
